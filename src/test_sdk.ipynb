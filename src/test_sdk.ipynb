{
 "cells": [
  {
   "cell_type": "code",
   "execution_count": 34,
   "id": "d46d20db-7209-4550-9075-5ae1a3779bc8",
   "metadata": {
    "execution": {
     "iopub.execute_input": "2023-04-24T10:21:22.363689Z",
     "iopub.status.busy": "2023-04-24T10:21:22.363366Z",
     "iopub.status.idle": "2023-04-24T10:21:22.542085Z",
     "shell.execute_reply": "2023-04-24T10:21:22.541535Z",
     "shell.execute_reply.started": "2023-04-24T10:21:22.363671Z"
    },
    "tags": []
   },
   "outputs": [
    {
     "name": "stderr",
     "output_type": "stream",
     "text": [
      "Enabling notebook extension jupyter-js-widgets/extension...\n",
      "      - Validating: \u001b[32mOK\u001b[0m\n"
     ]
    },
    {
     "data": {
      "text/plain": [
       "'0.4.20'"
      ]
     },
     "execution_count": 34,
     "metadata": {},
     "output_type": "execute_result"
    }
   ],
   "source": [
    "import cads_sdk as cs\n",
    "import spark_sdk as ss\n",
    "from cads_sdk.nosql import display\n",
    "ss.__version__"
   ]
  },
  {
   "cell_type": "code",
   "execution_count": 2,
   "id": "5d6f1cea-32c1-45ec-9584-20af5b6898fa",
   "metadata": {
    "execution": {
     "iopub.execute_input": "2023-04-24T09:04:29.195212Z",
     "iopub.status.busy": "2023-04-24T09:04:29.194779Z",
     "iopub.status.idle": "2023-04-24T09:04:31.854386Z",
     "shell.execute_reply": "2023-04-24T09:04:31.853767Z",
     "shell.execute_reply.started": "2023-04-24T09:04:29.195193Z"
    },
    "tags": []
   },
   "outputs": [],
   "source": [
    "from cads_sdk.pytorch.converter import ConvertFromZipImage"
   ]
  },
  {
   "cell_type": "markdown",
   "id": "b2c0820e-06ac-4a83-9b1a-41e6d2b2d6d5",
   "metadata": {
    "execution": {
     "iopub.execute_input": "2023-03-31T04:30:45.147892Z",
     "iopub.status.busy": "2023-03-31T04:30:45.147430Z",
     "iopub.status.idle": "2023-03-31T04:30:45.151100Z",
     "shell.execute_reply": "2023-03-31T04:30:45.150691Z",
     "shell.execute_reply.started": "2023-03-31T04:30:45.147871Z"
    },
    "tags": []
   },
   "source": [
    "print(ConvertFromZipImage.__doc__)"
   ]
  },
  {
   "cell_type": "code",
   "execution_count": 3,
   "id": "4ee933c3-4625-4232-9c98-5c2bcf6bc36b",
   "metadata": {
    "execution": {
     "iopub.execute_input": "2023-04-24T09:04:33.353121Z",
     "iopub.status.busy": "2023-04-24T09:04:33.352742Z",
     "iopub.status.idle": "2023-04-24T09:23:03.727871Z",
     "shell.execute_reply": "2023-04-24T09:23:03.727251Z",
     "shell.execute_reply.started": "2023-04-24T09:04:33.353103Z"
    },
    "tags": []
   },
   "outputs": [
    {
     "name": "stderr",
     "output_type": "stream",
     "text": [
      "2023-04-24 16:04:33,585 - INFO - Total file in zip: 37150\n",
      "2023-04-24 16:04:33,601 - INFO - Write at path: file:/home/hunght21/projects/facemaskclassification/data/facemask.parquet\n",
      "2023-04-24 16:04:33,601 - INFO - Save metadata at: \n",
      "Warning: Ignoring non-Spark config property: hive.metastore.uris\n",
      "Warning: Ignoring non-Spark config property: hive.metastore.client.capability.check\n"
     ]
    },
    {
     "name": "stdout",
     "output_type": "stream",
     "text": [
      "23/04/24 16:04:35 WARN NativeCodeLoader: Unable to load native-hadoop library for your platform... using builtin-java classes where applicable\n"
     ]
    },
    {
     "name": "stderr",
     "output_type": "stream",
     "text": [
      "Setting default log level to \"WARN\".\n",
      "To adjust logging level use sc.setLogLevel(newLevel). For SparkR, use setLogLevel(newLevel).\n"
     ]
    },
    {
     "name": "stdout",
     "output_type": "stream",
     "text": [
      "23/04/24 16:04:36 WARN SparkConf: Note that spark.local.dir will be overridden by the value set by the cluster manager (via SPARK_LOCAL_DIRS in mesos/standalone/kubernetes and LOCAL_DIRS in YARN).\n"
     ]
    },
    {
     "name": "stderr",
     "output_type": "stream",
     "text": [
      "2023-04-24 16:04:40,206 - WARNING - Not resize image, If get size error try to turn resize_mode='padding' or resize_mode='resize'\n",
      "2023-04-24 16:04:41,281 - INFO - Total folder memory: 1214006376\n",
      "<IPython.core.display.HTML object>                                  (0 + 8) / 8]\n",
      "<IPython.core.display.HTML object>\n",
      "<IPython.core.display.HTML object>\n",
      "<IPython.core.display.HTML object>\n",
      "<IPython.core.display.HTML object>\n",
      "<IPython.core.display.HTML object>\n",
      "<IPython.core.display.HTML object>\n",
      "<IPython.core.display.HTML object>\n",
      "2023-04-24 16:23:03,715 - INFO - Convert complete                               \n"
     ]
    }
   ],
   "source": [
    "converter = ConvertFromZipImage(\n",
    "              input_path=\"/home/hunght21/projects/facemaskclassification/data/facemask.zip\",\n",
    "              input_recursive = True, # will loop through folder to get all pattern\n",
    "              input_type = ('jpg', 'png'),\n",
    "    \n",
    "              #setting output\n",
    "              output_path = f\"file:/home/hunght21/projects/facemaskclassification/data/facemask\",\n",
    "    \n",
    "              compression = 'zstd', # zstd|snappy\n",
    "              # setting converter\n",
    "              image_type = 'png',\n",
    "              image_color = 3,\n",
    "              resize_mode=None, # |padding|resize\n",
    "              size = [(224,224)],\n",
    "              debug = False,\n",
    "             )\n",
    "\n",
    "converter.execute()"
   ]
  },
  {
   "cell_type": "code",
   "execution_count": 16,
   "id": "3d6b109a-2a0b-45a7-a042-60f82e22fc59",
   "metadata": {
    "execution": {
     "iopub.execute_input": "2023-04-24T10:10:21.420597Z",
     "iopub.status.busy": "2023-04-24T10:10:21.420190Z",
     "iopub.status.idle": "2023-04-24T10:10:21.564817Z",
     "shell.execute_reply": "2023-04-24T10:10:21.564325Z",
     "shell.execute_reply.started": "2023-04-24T10:10:21.420575Z"
    },
    "tags": []
   },
   "outputs": [],
   "source": [
    "from petastorm.etl.dataset_metadata import materialize_dataset\n",
    "import spark_sdk as ss\n",
    "spark = ss.PySpark().spark\n",
    "\n",
    "Schema = converter.create_image_schema(size=[224,224], image_type='jpg', image_color=3)\n",
    "ROWGROUP_SIZE_MB = 256"
   ]
  },
  {
   "cell_type": "code",
   "execution_count": 9,
   "id": "ae04b605-2e45-4b11-943c-573ee1a10d92",
   "metadata": {
    "execution": {
     "iopub.execute_input": "2023-04-24T10:04:53.699386Z",
     "iopub.status.busy": "2023-04-24T10:04:53.698997Z",
     "iopub.status.idle": "2023-04-24T10:04:53.911792Z",
     "shell.execute_reply": "2023-04-24T10:04:53.911172Z",
     "shell.execute_reply.started": "2023-04-24T10:04:53.699365Z"
    },
    "tags": []
   },
   "outputs": [],
   "source": [
    "df_train = ss.sql(\"\"\"\n",
    "select *\n",
    "from parquet.`file:/home/hunght21/projects/facemaskclassification/data/facemask.parquet`\n",
    "where path like \"%/train/%\"\n",
    "\"\"\")"
   ]
  },
  {
   "cell_type": "code",
   "execution_count": 18,
   "id": "3f7456f6-fb90-47b2-af0d-28f26ce1af23",
   "metadata": {
    "execution": {
     "iopub.execute_input": "2023-04-24T10:11:07.145260Z",
     "iopub.status.busy": "2023-04-24T10:11:07.144939Z",
     "iopub.status.idle": "2023-04-24T10:11:27.020264Z",
     "shell.execute_reply": "2023-04-24T10:11:27.019689Z",
     "shell.execute_reply.started": "2023-04-24T10:11:07.145241Z"
    },
    "tags": []
   },
   "outputs": [
    {
     "name": "stderr",
     "output_type": "stream",
     "text": [
      "/home/hunght21/envs/insigthface/lib/python3.8/site-packages/petastorm/fs_utils.py:89: FutureWarning: pyarrow.localfs is deprecated as of 2.0.0, please use pyarrow.fs.LocalFileSystem instead.\n",
      "  self._filesystem_factory = lambda: pyarrow.localfs\n",
      "/home/hunght21/envs/insigthface/lib/python3.8/site-packages/petastorm/fs_utils.py:89: FutureWarning: pyarrow.localfs is deprecated as of 2.0.0, please use pyarrow.fs.LocalFileSystem instead.\n",
      "  self._filesystem_factory = lambda: pyarrow.localfs\n",
      "/home/hunght21/envs/insigthface/lib/python3.8/site-packages/petastorm/fs_utils.py:89: FutureWarning: pyarrow.localfs is deprecated as of 2.0.0, please use pyarrow.fs.LocalFileSystem instead.\n",
      "  self._filesystem_factory = lambda: pyarrow.localfs\n",
      "/home/hunght21/envs/insigthface/lib/python3.8/site-packages/petastorm/fs_utils.py:89: FutureWarning: pyarrow.localfs is deprecated as of 2.0.0, please use pyarrow.fs.LocalFileSystem instead.\n",
      "  self._filesystem_factory = lambda: pyarrow.localfs\n",
      "/home/hunght21/envs/insigthface/lib/python3.8/site-packages/petastorm/fs_utils.py:89: FutureWarning: pyarrow.localfs is deprecated as of 2.0.0, please use pyarrow.fs.LocalFileSystem instead.\n",
      "  self._filesystem_factory = lambda: pyarrow.localfs\n",
      "/home/hunght21/envs/insigthface/lib/python3.8/site-packages/petastorm/fs_utils.py:89: FutureWarning: pyarrow.localfs is deprecated as of 2.0.0, please use pyarrow.fs.LocalFileSystem instead.\n",
      "  self._filesystem_factory = lambda: pyarrow.localfs\n",
      "/home/hunght21/envs/insigthface/lib/python3.8/site-packages/petastorm/fs_utils.py:89: FutureWarning: pyarrow.localfs is deprecated as of 2.0.0, please use pyarrow.fs.LocalFileSystem instead.\n",
      "  self._filesystem_factory = lambda: pyarrow.localfs\n",
      "/home/hunght21/envs/insigthface/lib/python3.8/site-packages/petastorm/fs_utils.py:89: FutureWarning: pyarrow.localfs is deprecated as of 2.0.0, please use pyarrow.fs.LocalFileSystem instead.\n",
      "  self._filesystem_factory = lambda: pyarrow.localfs\n",
      "/home/hunght21/envs/insigthface/lib/python3.8/site-packages/petastorm/fs_utils.py:89: FutureWarning: pyarrow.localfs is deprecated as of 2.0.0, please use pyarrow.fs.LocalFileSystem instead.\n",
      "  self._filesystem_factory = lambda: pyarrow.localfs\n",
      "/home/hunght21/envs/insigthface/lib/python3.8/site-packages/petastorm/fs_utils.py:89: FutureWarning: pyarrow.localfs is deprecated as of 2.0.0, please use pyarrow.fs.LocalFileSystem instead.\n",
      "  self._filesystem_factory = lambda: pyarrow.localfs\n",
      "/home/hunght21/envs/insigthface/lib/python3.8/site-packages/petastorm/fs_utils.py:89: FutureWarning: pyarrow.localfs is deprecated as of 2.0.0, please use pyarrow.fs.LocalFileSystem instead.\n",
      "  self._filesystem_factory = lambda: pyarrow.localfs\n",
      "/home/hunght21/envs/insigthface/lib/python3.8/site-packages/petastorm/fs_utils.py:89: FutureWarning: pyarrow.localfs is deprecated as of 2.0.0, please use pyarrow.fs.LocalFileSystem instead.\n",
      "  self._filesystem_factory = lambda: pyarrow.localfs\n"
     ]
    }
   ],
   "source": [
    "output_path = f\"file:/home/hunght21/projects/facemaskclassification/data/facemask\" + \"_train.parquet\"\n",
    "with materialize_dataset(spark, output_path, Schema, ROWGROUP_SIZE_MB):\n",
    "    df_train.to_dwh(hdfs_path = output_path,\n",
    "                    table_name = 'facemask_train',\n",
    "                    database = 'default',\n",
    "                    compression = 'zstd'\n",
    "                   )"
   ]
  },
  {
   "cell_type": "code",
   "execution_count": 22,
   "id": "942a9845-eff6-4fb7-b5d2-fa2eaf86136d",
   "metadata": {
    "execution": {
     "iopub.execute_input": "2023-04-24T10:13:25.213981Z",
     "iopub.status.busy": "2023-04-24T10:13:25.213665Z",
     "iopub.status.idle": "2023-04-24T10:13:25.341222Z",
     "shell.execute_reply": "2023-04-24T10:13:25.340690Z",
     "shell.execute_reply.started": "2023-04-24T10:13:25.213963Z"
    },
    "tags": []
   },
   "outputs": [],
   "source": [
    "df_val = ss.sql(\"\"\"\n",
    "select *\n",
    "from parquet.`file:/home/hunght21/projects/facemaskclassification/data/facemask.parquet`\n",
    "where path like \"%/val/%\"\n",
    "\"\"\")"
   ]
  },
  {
   "cell_type": "code",
   "execution_count": 25,
   "id": "ef13e174-2242-4a67-9240-a3eac6991f10",
   "metadata": {
    "execution": {
     "iopub.execute_input": "2023-04-24T10:14:09.070630Z",
     "iopub.status.busy": "2023-04-24T10:14:09.070308Z",
     "iopub.status.idle": "2023-04-24T10:14:17.104600Z",
     "shell.execute_reply": "2023-04-24T10:14:17.104074Z",
     "shell.execute_reply.started": "2023-04-24T10:14:09.070612Z"
    },
    "tags": []
   },
   "outputs": [
    {
     "name": "stderr",
     "output_type": "stream",
     "text": [
      "/home/hunght21/envs/insigthface/lib/python3.8/site-packages/petastorm/fs_utils.py:89: FutureWarning: pyarrow.localfs is deprecated as of 2.0.0, please use pyarrow.fs.LocalFileSystem instead.\n",
      "  self._filesystem_factory = lambda: pyarrow.localfs\n",
      "/home/hunght21/envs/insigthface/lib/python3.8/site-packages/petastorm/fs_utils.py:89: FutureWarning: pyarrow.localfs is deprecated as of 2.0.0, please use pyarrow.fs.LocalFileSystem instead.\n",
      "  self._filesystem_factory = lambda: pyarrow.localfs\n",
      "/home/hunght21/envs/insigthface/lib/python3.8/site-packages/petastorm/fs_utils.py:89: FutureWarning: pyarrow.localfs is deprecated as of 2.0.0, please use pyarrow.fs.LocalFileSystem instead.\n",
      "  self._filesystem_factory = lambda: pyarrow.localfs\n",
      "/home/hunght21/envs/insigthface/lib/python3.8/site-packages/petastorm/fs_utils.py:89: FutureWarning: pyarrow.localfs is deprecated as of 2.0.0, please use pyarrow.fs.LocalFileSystem instead.\n",
      "  self._filesystem_factory = lambda: pyarrow.localfs\n",
      "/home/hunght21/envs/insigthface/lib/python3.8/site-packages/petastorm/fs_utils.py:89: FutureWarning: pyarrow.localfs is deprecated as of 2.0.0, please use pyarrow.fs.LocalFileSystem instead.\n",
      "  self._filesystem_factory = lambda: pyarrow.localfs\n"
     ]
    }
   ],
   "source": [
    "output_path = f\"file:/home/hunght21/projects/facemaskclassification/data/facemask\" + \"_val.parquet\"\n",
    "with materialize_dataset(spark, output_path, Schema, ROWGROUP_SIZE_MB):\n",
    "    df_val.to_dwh(hdfs_path = output_path,\n",
    "                    table_name = 'acemask_val',\n",
    "                    database = 'default',\n",
    "                    compression = 'zstd'\n",
    "                   )"
   ]
  },
  {
   "cell_type": "code",
   "execution_count": 39,
   "id": "c31ab1f9-fa2c-4f1a-904b-e907a4233662",
   "metadata": {
    "execution": {
     "iopub.execute_input": "2023-04-24T10:21:54.024276Z",
     "iopub.status.busy": "2023-04-24T10:21:54.023972Z",
     "iopub.status.idle": "2023-04-24T10:21:54.118744Z",
     "shell.execute_reply": "2023-04-24T10:21:54.118265Z",
     "shell.execute_reply.started": "2023-04-24T10:21:54.024259Z"
    },
    "tags": []
   },
   "outputs": [],
   "source": [
    "df = ss.sql(\"\"\"\n",
    "select * \n",
    "from parquet.`file:/home/hunght21/projects/facemaskclassification/data/facemask.parquet`\n",
    "\"\"\")"
   ]
  },
  {
   "cell_type": "code",
   "execution_count": 44,
   "id": "d622e50c-c7d3-4a8a-9ff4-9121adb7f303",
   "metadata": {
    "execution": {
     "iopub.execute_input": "2023-04-24T10:23:17.002460Z",
     "iopub.status.busy": "2023-04-24T10:23:17.002142Z",
     "iopub.status.idle": "2023-04-24T10:23:25.303708Z",
     "shell.execute_reply": "2023-04-24T10:23:25.303162Z",
     "shell.execute_reply.started": "2023-04-24T10:23:17.002442Z"
    },
    "tags": []
   },
   "outputs": [
    {
     "name": "stderr",
     "output_type": "stream",
     "text": [
      "                                                                                \r"
     ]
    },
    {
     "data": {
      "text/html": [
       "<table border=\"1\" class=\"dataframe\">\n",
       "  <thead>\n",
       "    <tr style=\"text-align: right;\">\n",
       "      <th></th>\n",
       "      <th>path</th>\n",
       "      <th>size</th>\n",
       "      <th>image</th>\n",
       "    </tr>\n",
       "  </thead>\n",
       "  <tbody>\n",
       "    <tr>\n",
       "      <th>0</th>\n",
       "      <td>facemask/train/mask/20200428-175240-2515469130-38507-3455-571.jpg</td>\n",
       "      <td>(224, 224, 3)</td>\n",
       "      <td><img src=\"data:image/jpeg;base64,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\"></td>\n",
       "    </tr>\n",
       "    <tr>\n",
       "      <th>1</th>\n",
       "      <td>facemask/train/mask/3099.jpg</td>\n",
       "      <td>(224, 224, 3)</td>\n",
       "      <td><img src=\"data:image/jpeg;base64,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\"></td>\n",
       "    </tr>\n",
       "    <tr>\n",
       "      <th>2</th>\n",
       "      <td>facemask/train/mask/20200421-111248-1957229546-1013773-25811-625.jpg</td>\n",
       "      <td>(224, 224, 3)</td>\n",
       "      <td><img src=\"data:image/jpeg;base64,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\"></td>\n",
       "    </tr>\n",
       "    <tr>\n",
       "      <th>3</th>\n",
       "      <td>facemask/train/mask/20200420-153449-4185801598-889920-10490-395.jpg</td>\n",
       "      <td>(224, 224, 3)</td>\n",
       "      <td><img src=\"data:image/jpeg;base64,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\"></td>\n",
       "    </tr>\n",
       "    <tr>\n",
       "      <th>4</th>\n",
       "      <td>facemask/train/mask/20200420-153126-4167945688-934264-23078-718.jpg</td>\n",
       "      <td>(224, 224, 3)</td>\n",
       "      <td><img src=\"data:image/jpeg;base64,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\"></td>\n",
       "    </tr>\n",
       "    <tr>\n",
       "      <th>...</th>\n",
       "      <td>...</td>\n",
       "      <td>...</td>\n",
       "      <td>...</td>\n",
       "    </tr>\n",
       "    <tr>\n",
       "      <th>95</th>\n",
       "      <td>facemask/train/mask/20200414-173419-1125760778-376955-8395-679.jpg</td>\n",
       "      <td>(224, 224, 3)</td>\n",
       "      <td><img src=\"data:image/jpeg;base64,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\"></td>\n",
       "    </tr>\n",
       "    <tr>\n",
       "      <th>96</th>\n",
       "      <td>facemask/train/mask/2475.jpg</td>\n",
       "      <td>(224, 224, 3)</td>\n",
       "      <td><img src=\"data:image/jpeg;base64,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\"></td>\n",
       "    </tr>\n",
       "    <tr>\n",
       "      <th>97</th>\n",
       "      <td>facemask/train/mask/20200414-184254-1496122748-384132-9379-668.jpg</td>\n",
       "      <td>(224, 224, 3)</td>\n",
       "      <td><img src=\"data:image/jpeg;base64,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\"></td>\n",
       "    </tr>\n",
       "    <tr>\n",
       "      <th>98</th>\n",
       "      <td>facemask/train/mask/1043.jpg</td>\n",
       "      <td>(224, 224, 3)</td>\n",
       "      <td><img src=\"data:image/jpeg;base64,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\"></td>\n",
       "    </tr>\n",
       "    <tr>\n",
       "      <th>99</th>\n",
       "      <td>facemask/train/mask/20200406-074902-1692872816-991133-20529-502.jpg</td>\n",
       "      <td>(224, 224, 3)</td>\n",
       "      <td><img src=\"data:image/jpeg;base64,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\"></td>\n",
       "    </tr>\n",
       "  </tbody>\n",
       "</table>\n",
       "<p>100 rows × 3 columns</p>"
      ],
      "text/plain": [
       "                                                 path           size                                              image\n",
       "0   facemask/train/mask/20200428-175240-2515469130...  (224, 224, 3)  <PIL.JpegImagePlugin.JpegImageFile image mode=...\n",
       "1                        facemask/train/mask/3099.jpg  (224, 224, 3)  <PIL.PngImagePlugin.PngImageFile image mode=RG...\n",
       "2   facemask/train/mask/20200421-111248-1957229546...  (224, 224, 3)  <PIL.JpegImagePlugin.JpegImageFile image mode=...\n",
       "3   facemask/train/mask/20200420-153449-4185801598...  (224, 224, 3)  <PIL.JpegImagePlugin.JpegImageFile image mode=...\n",
       "4   facemask/train/mask/20200420-153126-4167945688...  (224, 224, 3)  <PIL.JpegImagePlugin.JpegImageFile image mode=...\n",
       "..                                                ...            ...                                                ...\n",
       "95  facemask/train/mask/20200414-173419-1125760778...  (224, 224, 3)  <PIL.JpegImagePlugin.JpegImageFile image mode=...\n",
       "96                       facemask/train/mask/2475.jpg  (224, 224, 3)  <PIL.PngImagePlugin.PngImageFile image mode=RG...\n",
       "97  facemask/train/mask/20200414-184254-1496122748...  (224, 224, 3)  <PIL.JpegImagePlugin.JpegImageFile image mode=...\n",
       "98                       facemask/train/mask/1043.jpg  (224, 224, 3)  <PIL.PngImagePlugin.PngImageFile image mode=RG...\n",
       "99  facemask/train/mask/20200406-074902-1692872816...  (224, 224, 3)  <PIL.JpegImagePlugin.JpegImageFile image mode=...\n",
       "\n",
       "[100 rows x 3 columns]"
      ]
     },
     "execution_count": 44,
     "metadata": {},
     "output_type": "execute_result"
    }
   ],
   "source": [
    "pdf = df[1000:1100].toPandasImage()\n",
    "pdf"
   ]
  },
  {
   "cell_type": "code",
   "execution_count": null,
   "id": "abbd6b34-71e1-4d23-819d-750cd63f7208",
   "metadata": {},
   "outputs": [],
   "source": []
  }
 ],
 "metadata": {
  "kernelspec": {
   "display_name": "insigthface",
   "language": "python",
   "name": "insigthface"
  },
  "language_info": {
   "codemirror_mode": {
    "name": "ipython",
    "version": 3
   },
   "file_extension": ".py",
   "mimetype": "text/x-python",
   "name": "python",
   "nbconvert_exporter": "python",
   "pygments_lexer": "ipython3",
   "version": "3.8.13"
  }
 },
 "nbformat": 4,
 "nbformat_minor": 5
}
